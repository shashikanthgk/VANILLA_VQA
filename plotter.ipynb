{
 "cells": [
  {
   "cell_type": "code",
   "execution_count": 1,
   "metadata": {},
   "outputs": [],
   "source": [
    "import numpy as np\n",
    "import csv\n",
    "import matplotlib.pyplot as plt"
   ]
  },
  {
   "cell_type": "code",
   "execution_count": 2,
   "metadata": {},
   "outputs": [],
   "source": [
    "num_epochs = 100"
   ]
  },
  {
   "cell_type": "code",
   "execution_count": 5,
   "metadata": {},
   "outputs": [
    {
     "name": "stderr",
     "output_type": "stream",
     "text": [
      "<ipython-input-5-d2a7e1673977>:19: MatplotlibDeprecationWarning: Adding an axes using the same arguments as a previous axes currently reuses the earlier instance.  In a future version, a new instance will always be created and returned.  Meanwhile, this warning can be suppressed, and the future behavior ensured, by passing a unique label to each axes instance.\n",
      "  plt.subplot(1, 2, 1)\n",
      "<ipython-input-5-d2a7e1673977>:28: MatplotlibDeprecationWarning: Adding an axes using the same arguments as a previous axes currently reuses the earlier instance.  In a future version, a new instance will always be created and returned.  Meanwhile, this warning can be suppressed, and the future behavior ensured, by passing a unique label to each axes instance.\n",
      "  plt.subplot(1, 2, 2)\n"
     ]
    },
    {
     "data": {
      "image/png": "[encoded data removed]",
      "text/plain": [
       "<Figure size 720x360 with 2 Axes>"
      ]
     },
     "metadata": {
      "needs_background": "light"
     },
     "output_type": "display_data"
    }
   ],
   "source": [
    "fig = plt.figure(figsize=(10,5))\n",
    "\n",
    "for phase in ['train', 'valid']:\n",
    "    \n",
    "    epoch = []\n",
    "    loss = []\n",
    "    acc = []\n",
    "    \n",
    "    for i in range(num_epochs):\n",
    "        \n",
    "        with open('./logs/{}-log-epoch-{:02d}.txt'.format(phase, i+1), 'r') as f:\n",
    "            df = csv.reader(f, delimiter='\\t')\n",
    "            data = list(df)\n",
    "\n",
    "        epoch.append(float(data[0][0]))\n",
    "        loss.append(float(data[0][1]))\n",
    "        acc.append(float(data[0][3]))\n",
    "\n",
    "    plt.subplot(1, 2, 1)\n",
    "    if phase == 'train':\n",
    "        plt.plot(epoch, loss, label = phase, color = 'orange', linewidth = 5.0)\n",
    "    else:\n",
    "        plt.plot(epoch, loss, label = phase, color = 'skyblue', linewidth = 5.0)\n",
    "            \n",
    "    plt.xlabel('Epoch', fontsize = 20)\n",
    "    plt.ylabel('Loss', fontsize = 20)\n",
    "        \n",
    "    plt.subplot(1, 2, 2)\n",
    "    plt.tight_layout()\n",
    "\n",
    "    if phase == 'train':\n",
    "        plt.plot(epoch, acc, label = phase, color = 'orange', linewidth = 5.0)\n",
    "    else:\n",
    "        plt.plot(epoch, acc, label = phase, color = 'skyblue', linewidth = 5.0)\n",
    "    \n",
    "    plt.xlabel('Epoch', fontsize = 20)\n",
    "    plt.ylabel('Accuracy', fontsize = 20)\n",
    "    \n",
    "    plt.legend(bbox_to_anchor=(1.05, 1), loc=2, borderaxespad=0., prop={'size': 20})\n",
    "    \n",
    "    \n",
    "plt.savefig('./png/train.png', dpi = fig.dpi)"
   ]
  },
  {
   "cell_type": "code",
   "execution_count": 6,
   "metadata": {},
   "outputs": [
    {
     "name": "stdout",
     "output_type": "stream",
     "text": [
      "5 & 56.18 & 53.7 & 59.77 & 56.4\\\\\n",
      "\\hline\n",
      "10 & 63.78 & 60.53 & 65.23 & 61.75\\\\\n",
      "\\hline\n",
      "15 & 67.67 & 64.1 & 66.35 & 62.87\\\\\n",
      "\\hline\n",
      "20 & 69.82 & 66.14 & 66.77 & 63.47\\\\\n",
      "\\hline\n",
      "25 & 70.35 & 66.67 & 66.85 & 63.56\\\\\n",
      "\\hline\n",
      "30 & 70.63 & 66.94 & 66.91 & 63.63\\\\\n",
      "\\hline\n",
      "35 & 70.65 & 66.94 & 66.92 & 63.65\\\\\n",
      "\\hline\n",
      "40 & 70.7 & 66.99 & 66.94 & 63.66\\\\\n",
      "\\hline\n",
      "45 & 70.71 & 66.99 & 66.83 & 63.56\\\\\n",
      "\\hline\n",
      "50 & 70.7 & 66.99 & 66.87 & 63.6\\\\\n",
      "\\hline\n",
      "55 & 70.77 & 67.06 & 66.95 & 63.67\\\\\n",
      "\\hline\n",
      "60 & 70.72 & 67.02 & 66.94 & 63.68\\\\\n",
      "\\hline\n",
      "65 & 70.69 & 66.98 & 66.93 & 63.65\\\\\n",
      "\\hline\n",
      "70 & 70.73 & 67.02 & 66.9 & 63.62\\\\\n",
      "\\hline\n",
      "75 & 70.74 & 67.04 & 66.98 & 63.7\\\\\n",
      "\\hline\n",
      "80 & 70.7 & 67.0 & 66.89 & 63.63\\\\\n",
      "\\hline\n",
      "85 & 70.72 & 67.04 & 66.9 & 63.62\\\\\n",
      "\\hline\n",
      "90 & 70.75 & 67.04 & 66.91 & 63.63\\\\\n",
      "\\hline\n",
      "95 & 70.72 & 67.01 & 67.0 & 63.72\\\\\n",
      "\\hline\n",
      "100 & 70.73 & 67.03 & 66.94 & 63.67\\\\\n",
      "\\hline\n"
     ]
    }
   ],
   "source": [
    "for i in range(num_epochs):\n",
    "    if (i+1)%5 == 0:\n",
    "        with open('./logs/{}-log-epoch-{:02d}.txt'.format('train', i+1), 'r') as f:\n",
    "            df = csv.reader(f, delimiter='\\t')\n",
    "            data1 = list(df) \n",
    "        with open('./logs/{}-log-epoch-{:02d}.txt'.format('valid', i+1), 'r') as f:\n",
    "            df = csv.reader(f, delimiter='\\t')\n",
    "            data2 = list(df)\n",
    "        print(str(i+1)+\" & \"+str(round(float(data1[0][2])*100,2))+\" & \"+str(round(float(data1[0][3])*100,2))+\" & \"+str(round(float(data2[0][2])*100,2))+\" & \"+str(round(float(data2[0][3])*100,2))+\"\\\\\\\\\")\n",
    "        print(\"\\hline\")"
   ]
  },
  {
   "cell_type": "code",
   "execution_count": null,
   "metadata": {},
   "outputs": [],
   "source": []
  }
 ],
 "metadata": {
  "kernelspec": {
   "display_name": "Python 3",
   "language": "python",
   "name": "python3"
  },
  "language_info": {
   "codemirror_mode": {
    "name": "ipython",
    "version": 3
   },
   "file_extension": ".py",
   "mimetype": "text/x-python",
   "name": "python",
   "nbconvert_exporter": "python",
   "pygments_lexer": "ipython3",
   "version": "3.8.5"
  }
 },
 "nbformat": 4,
 "nbformat_minor": 2
}
